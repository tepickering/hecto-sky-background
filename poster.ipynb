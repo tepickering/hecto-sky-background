{
 "cells": [
  {
   "cell_type": "code",
   "execution_count": 1,
   "metadata": {},
   "outputs": [],
   "source": [
    "import datetime\n",
    "import pytz\n",
    "\n",
    "import matplotlib.pyplot as plt\n",
    "import matplotlib.dates as mdates\n",
    "import mplcyberpunk\n",
    "\n",
    "from pathlib import Path\n",
    "import pandas as pd\n",
    "import numpy as np\n",
    "from astropy.io import fits\n",
    "import astropy.wcs as fitswcs\n",
    "import astropy.units as u\n",
    "from astropy.coordinates import EarthLocation, SkyCoord, AltAz, get_moon, Angle\n",
    "from astropy.time import Time\n",
    "from astropy.table import Table\n",
    "import astroplan\n",
    "from specutils.spectra.spectrum1d import Spectrum1D\n",
    "from astropy.visualization import (MinMaxInterval, SqrtStretch, ZScaleInterval,\n",
    "                                   ImageNormalize, quantity_support)\n",
    "from specutils.manipulation import FluxConservingResampler\n",
    "\n",
    "from sklearn.decomposition import PCA\n",
    "\n",
    "_ = quantity_support()\n",
    "plt.style.use(\"cyberpunk\")\n",
    "SMALL_SIZE = 18\n",
    "MEDIUM_SIZE = 20\n",
    "BIGGER_SIZE = 24\n",
    "\n",
    "plt.rc('font', size=SMALL_SIZE)          # controls default text sizes\n",
    "plt.rc('font', family='Impact')\n",
    "plt.rc('axes', titlesize=SMALL_SIZE)     # fontsize of the axes title\n",
    "plt.rc('axes', labelsize=MEDIUM_SIZE)    # fontsize of the x and y labels\n",
    "plt.rc('xtick', labelsize=SMALL_SIZE)    # fontsize of the tick labels\n",
    "plt.rc('ytick', labelsize=SMALL_SIZE)    # fontsize of the tick labels\n",
    "plt.rc('legend', fontsize=SMALL_SIZE)    # legend fontsize\n",
    "plt.rc('figure', titlesize=BIGGER_SIZE)  # fontsize of the figure title"
   ]
  },
  {
   "cell_type": "code",
   "execution_count": 2,
   "metadata": {},
   "outputs": [],
   "source": [
    "new_disp_grid = np.arange(3850, 6800, 2) * u.AA\n",
    "fluxcon = FluxConservingResampler()"
   ]
  },
  {
   "cell_type": "code",
   "execution_count": null,
   "metadata": {},
   "outputs": [],
   "source": []
  }
 ],
 "metadata": {
  "kernelspec": {
   "display_name": "hecto_sky",
   "language": "python",
   "name": "python3"
  },
  "language_info": {
   "codemirror_mode": {
    "name": "ipython",
    "version": 3
   },
   "file_extension": ".py",
   "mimetype": "text/x-python",
   "name": "python",
   "nbconvert_exporter": "python",
   "pygments_lexer": "ipython3",
   "version": "3.10.8"
  },
  "orig_nbformat": 4,
  "vscode": {
   "interpreter": {
    "hash": "8a54cf075e3a3215abb1c43ef48113a55c644219657f7af0928c4b0ad7ac14f9"
   }
  }
 },
 "nbformat": 4,
 "nbformat_minor": 2
}
