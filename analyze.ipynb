{
 "metadata": {
  "language_info": {
   "codemirror_mode": {
    "name": "ipython",
    "version": 3
   },
   "file_extension": ".py",
   "mimetype": "text/x-python",
   "name": "python",
   "nbconvert_exporter": "python",
   "pygments_lexer": "ipython3",
   "version": "3.8.5-final"
  },
  "orig_nbformat": 2,
  "kernelspec": {
   "name": "python3",
   "display_name": "Python 3",
   "language": "python"
  }
 },
 "nbformat": 4,
 "nbformat_minor": 2,
 "cells": [
  {
   "cell_type": "code",
   "execution_count": 132,
   "metadata": {},
   "outputs": [],
   "source": [
    "import datetime\n",
    "import pytz\n",
    "\n",
    "import matplotlib.pyplot as plt\n",
    "import mplcyberpunk\n",
    "\n",
    "from pathlib import Path\n",
    "import pandas as pd\n",
    "import numpy as np\n",
    "from astropy.io import fits\n",
    "import astropy.wcs as fitswcs\n",
    "import astropy.units as u\n",
    "from astropy.coordinates import EarthLocation, SkyCoord, AltAz, get_moon, Angle\n",
    "from astropy.time import Time\n",
    "from astropy.table import Table\n",
    "import astroplan\n",
    "from specutils.spectra.spectrum1d import Spectrum1D\n",
    "from astropy.visualization import quantity_support\n",
    "from specutils.manipulation import FluxConservingResampler\n",
    "\n",
    "from sklearn.decomposition import PCA\n",
    "\n",
    "_ = quantity_support()\n",
    "plt.style.use(\"cyberpunk\")\n",
    "%matplotlib widget"
   ]
  },
  {
   "cell_type": "code",
   "execution_count": 103,
   "metadata": {},
   "outputs": [
    {
     "output_type": "execute_result",
     "data": {
      "text/plain": [
       "                                            file                   ut    alt  \\\n",
       "1        ./2004.0413/skysub_a2034.bg_1_comb.fits  2004-04-13T08:25:25  81.18   \n",
       "3        ./2004.0413/skysub_F2.20.bg_1_comb.fits  2004-04-13T05:53:13  56.71   \n",
       "4           ./2004.0414/skysub_F2.bg_1_comb.fits  2004-04-14T05:11:49  65.04   \n",
       "5           ./2004.0414/skysub_F2.bg_2_comb.fits  2004-04-14T07:00:59  41.07   \n",
       "6           ./2004.0415/skysub_F2.bg_3_comb.fits  2004-04-15T05:48:01  55.37   \n",
       "...                                          ...                  ...    ...   \n",
       "4126   ./2020.1013/skysub_m31_pne_20_9_comb.fits  2020-10-13T08:16:47  66.13   \n",
       "4129     ./2020.1024/skysub_jiang_c2_1_comb.fits  2020-10-24T12:04:06  65.47   \n",
       "4132       ./2020.1024/skysub_Rank13_1_comb.fits  2020-10-24T08:14:37  50.94   \n",
       "4133     ./2020.1025/skysub_jiang_c2_1_comb.fits  2020-10-25T11:29:55  59.13   \n",
       "4136  ./2020.1025/skysub_m31_pne_20_12_comb.fits  2020-10-25T10:04:04  40.71   \n",
       "\n",
       "          az  moon_alt  moon_az  moon_ill disperser  \n",
       "1      75.47    -17.42   107.26        37   270_gpm  \n",
       "3     278.43    -47.97    91.12        38   270_gpm  \n",
       "4     274.96    -65.06    67.04        28   270_gpm  \n",
       "5     284.86    -43.32    87.36        27   270_gpm  \n",
       "6     278.13    -64.16    53.43        19   270_gpm  \n",
       "...      ...       ...      ...       ...       ...  \n",
       "4126  300.54    -16.84    60.23        17   270_gpm  \n",
       "4129   80.09    -59.19   282.18        60   270_gpm  \n",
       "4132  204.84    -13.27   252.44        58   270_gpm  \n",
       "4133   78.40    -41.03   273.43        69   270_gpm  \n",
       "4136  299.23    -23.64   262.57        69   270_gpm  \n",
       "\n",
       "[2310 rows x 8 columns]"
      ],
      "text/html": "<div>\n<style scoped>\n    .dataframe tbody tr th:only-of-type {\n        vertical-align: middle;\n    }\n\n    .dataframe tbody tr th {\n        vertical-align: top;\n    }\n\n    .dataframe thead th {\n        text-align: right;\n    }\n</style>\n<table border=\"1\" class=\"dataframe\">\n  <thead>\n    <tr style=\"text-align: right;\">\n      <th></th>\n      <th>file</th>\n      <th>ut</th>\n      <th>alt</th>\n      <th>az</th>\n      <th>moon_alt</th>\n      <th>moon_az</th>\n      <th>moon_ill</th>\n      <th>disperser</th>\n    </tr>\n  </thead>\n  <tbody>\n    <tr>\n      <th>1</th>\n      <td>./2004.0413/skysub_a2034.bg_1_comb.fits</td>\n      <td>2004-04-13T08:25:25</td>\n      <td>81.18</td>\n      <td>75.47</td>\n      <td>-17.42</td>\n      <td>107.26</td>\n      <td>37</td>\n      <td>270_gpm</td>\n    </tr>\n    <tr>\n      <th>3</th>\n      <td>./2004.0413/skysub_F2.20.bg_1_comb.fits</td>\n      <td>2004-04-13T05:53:13</td>\n      <td>56.71</td>\n      <td>278.43</td>\n      <td>-47.97</td>\n      <td>91.12</td>\n      <td>38</td>\n      <td>270_gpm</td>\n    </tr>\n    <tr>\n      <th>4</th>\n      <td>./2004.0414/skysub_F2.bg_1_comb.fits</td>\n      <td>2004-04-14T05:11:49</td>\n      <td>65.04</td>\n      <td>274.96</td>\n      <td>-65.06</td>\n      <td>67.04</td>\n      <td>28</td>\n      <td>270_gpm</td>\n    </tr>\n    <tr>\n      <th>5</th>\n      <td>./2004.0414/skysub_F2.bg_2_comb.fits</td>\n      <td>2004-04-14T07:00:59</td>\n      <td>41.07</td>\n      <td>284.86</td>\n      <td>-43.32</td>\n      <td>87.36</td>\n      <td>27</td>\n      <td>270_gpm</td>\n    </tr>\n    <tr>\n      <th>6</th>\n      <td>./2004.0415/skysub_F2.bg_3_comb.fits</td>\n      <td>2004-04-15T05:48:01</td>\n      <td>55.37</td>\n      <td>278.13</td>\n      <td>-64.16</td>\n      <td>53.43</td>\n      <td>19</td>\n      <td>270_gpm</td>\n    </tr>\n    <tr>\n      <th>...</th>\n      <td>...</td>\n      <td>...</td>\n      <td>...</td>\n      <td>...</td>\n      <td>...</td>\n      <td>...</td>\n      <td>...</td>\n      <td>...</td>\n    </tr>\n    <tr>\n      <th>4126</th>\n      <td>./2020.1013/skysub_m31_pne_20_9_comb.fits</td>\n      <td>2020-10-13T08:16:47</td>\n      <td>66.13</td>\n      <td>300.54</td>\n      <td>-16.84</td>\n      <td>60.23</td>\n      <td>17</td>\n      <td>270_gpm</td>\n    </tr>\n    <tr>\n      <th>4129</th>\n      <td>./2020.1024/skysub_jiang_c2_1_comb.fits</td>\n      <td>2020-10-24T12:04:06</td>\n      <td>65.47</td>\n      <td>80.09</td>\n      <td>-59.19</td>\n      <td>282.18</td>\n      <td>60</td>\n      <td>270_gpm</td>\n    </tr>\n    <tr>\n      <th>4132</th>\n      <td>./2020.1024/skysub_Rank13_1_comb.fits</td>\n      <td>2020-10-24T08:14:37</td>\n      <td>50.94</td>\n      <td>204.84</td>\n      <td>-13.27</td>\n      <td>252.44</td>\n      <td>58</td>\n      <td>270_gpm</td>\n    </tr>\n    <tr>\n      <th>4133</th>\n      <td>./2020.1025/skysub_jiang_c2_1_comb.fits</td>\n      <td>2020-10-25T11:29:55</td>\n      <td>59.13</td>\n      <td>78.40</td>\n      <td>-41.03</td>\n      <td>273.43</td>\n      <td>69</td>\n      <td>270_gpm</td>\n    </tr>\n    <tr>\n      <th>4136</th>\n      <td>./2020.1025/skysub_m31_pne_20_12_comb.fits</td>\n      <td>2020-10-25T10:04:04</td>\n      <td>40.71</td>\n      <td>299.23</td>\n      <td>-23.64</td>\n      <td>262.57</td>\n      <td>69</td>\n      <td>270_gpm</td>\n    </tr>\n  </tbody>\n</table>\n<p>2310 rows × 8 columns</p>\n</div>"
     },
     "metadata": {},
     "execution_count": 103
    }
   ],
   "source": [
    "df = pd.read_csv(\"sky_spectra.csv\")\n",
    "moonfree = df[(df['moon_alt'] < -10) & (df['disperser'] == '270_gpm')]\n",
    "moonfree"
   ]
  },
  {
   "cell_type": "code",
   "execution_count": 104,
   "metadata": {},
   "outputs": [],
   "source": [
    "new_disp_grid = np.arange(3850, 6800, 2) * u.AA\n",
    "fluxcon = FluxConservingResampler()"
   ]
  },
  {
   "cell_type": "code",
   "execution_count": 105,
   "metadata": {
    "tags": []
   },
   "outputs": [],
   "source": [
    "fluxes = []\n",
    "for i, r in moonfree.iterrows():\n",
    "    sp = Spectrum1D.read(r['file'])\n",
    "    trim_sp = fluxcon(sp, new_disp_grid)\n",
    "    fluxes.append(trim_sp.flux)"
   ]
  },
  {
   "cell_type": "code",
   "execution_count": 168,
   "metadata": {},
   "outputs": [],
   "source": [
    "fluxes = np.array(fluxes)\n",
    "fits.writeto(\"sky_fluxes.fts\", fluxes)"
   ]
  },
  {
   "cell_type": "code",
   "execution_count": 133,
   "metadata": {},
   "outputs": [
    {
     "output_type": "display_data",
     "data": {
      "text/plain": "Canvas(toolbar=Toolbar(toolitems=[('Home', 'Reset original view', 'home', 'home'), ('Back', 'Back to previous …",
      "application/vnd.jupyter.widget-view+json": {
       "version_major": 2,
       "version_minor": 0,
       "model_id": "b407c68efeda4696acd7e7a9e9ab1409"
      }
     },
     "metadata": {}
    }
   ],
   "source": [
    "plt.figure(figsize=[15,8])\n",
    "plt.yscale('log')\n",
    "plt.step(new_disp_grid, np.mean(fluxes, axis=0))\n",
    "plt.step(new_disp_grid, np.std(fluxes, axis=0))\n",
    "plt.show()"
   ]
  },
  {
   "cell_type": "code",
   "execution_count": 134,
   "metadata": {},
   "outputs": [
    {
     "output_type": "display_data",
     "data": {
      "text/plain": "Canvas(toolbar=Toolbar(toolitems=[('Home', 'Reset original view', 'home', 'home'), ('Back', 'Back to previous …",
      "application/vnd.jupyter.widget-view+json": {
       "version_major": 2,
       "version_minor": 0,
       "model_id": "7d408a73e2a640af9f6f8a3f93ab4c1e"
      }
     },
     "metadata": {}
    }
   ],
   "source": [
    "plt.figure(figsize=[15,8])\n",
    "#plt.yscale('log')\n",
    "plt.step(new_disp_grid, np.mean(fluxes, axis=0)/np.std(fluxes, axis=0))\n",
    "plt.show()"
   ]
  },
  {
   "cell_type": "code",
   "execution_count": 135,
   "metadata": {},
   "outputs": [
    {
     "output_type": "display_data",
     "data": {
      "text/plain": "Canvas(toolbar=Toolbar(toolitems=[('Home', 'Reset original view', 'home', 'home'), ('Back', 'Back to previous …",
      "application/vnd.jupyter.widget-view+json": {
       "version_major": 2,
       "version_minor": 0,
       "model_id": "4a7a60f13a394d649b2661011ff7b0ed"
      }
     },
     "metadata": {}
    }
   ],
   "source": [
    "plt.figure(figsize=[15,8])\n",
    "#plt.yscale('log')\n",
    "plt.step(new_disp_grid, 2.5 * np.log10(fluxes[-1, :] / fluxes[2200, :]))\n",
    "plt.show()"
   ]
  },
  {
   "cell_type": "code",
   "execution_count": 136,
   "metadata": {},
   "outputs": [],
   "source": [
    "pca = PCA(n_components=16).fit(fluxes)"
   ]
  },
  {
   "cell_type": "code",
   "execution_count": 137,
   "metadata": {},
   "outputs": [
    {
     "output_type": "display_data",
     "data": {
      "text/plain": "Canvas(toolbar=Toolbar(toolitems=[('Home', 'Reset original view', 'home', 'home'), ('Back', 'Back to previous …",
      "application/vnd.jupyter.widget-view+json": {
       "version_major": 2,
       "version_minor": 0,
       "model_id": "60c3abb95afb432bbb63db0e384120a9"
      }
     },
     "metadata": {}
    }
   ],
   "source": [
    "plt.figure()\n",
    "plt.plot(np.cumsum(pca.explained_variance_ratio_))\n",
    "plt.xlabel('number of components')\n",
    "plt.ylabel('cumulative explained variance')\n",
    "plt.show()"
   ]
  },
  {
   "cell_type": "code",
   "execution_count": 138,
   "metadata": {},
   "outputs": [],
   "source": [
    "components = pca.transform(fluxes)\n",
    "filtered = pca.inverse_transform(components)"
   ]
  },
  {
   "cell_type": "code",
   "execution_count": 139,
   "metadata": {},
   "outputs": [
    {
     "output_type": "execute_result",
     "data": {
      "text/plain": [
       "(2310, 16)"
      ]
     },
     "metadata": {},
     "execution_count": 139
    }
   ],
   "source": [
    "components.shape"
   ]
  },
  {
   "cell_type": "code",
   "execution_count": 140,
   "metadata": {},
   "outputs": [
    {
     "output_type": "execute_result",
     "data": {
      "text/plain": [
       "(2310, 1475)"
      ]
     },
     "metadata": {},
     "execution_count": 140
    }
   ],
   "source": [
    "filtered.shape"
   ]
  },
  {
   "cell_type": "code",
   "execution_count": 178,
   "metadata": {},
   "outputs": [
    {
     "output_type": "display_data",
     "data": {
      "text/plain": "Canvas(toolbar=Toolbar(toolitems=[('Home', 'Reset original view', 'home', 'home'), ('Back', 'Back to previous …",
      "application/vnd.jupyter.widget-view+json": {
       "version_major": 2,
       "version_minor": 0,
       "model_id": "2faaad8ba4a747879158eb70c457d5ca"
      }
     },
     "metadata": {}
    }
   ],
   "source": [
    "plt.figure(figsize=[15,8])\n",
    "#plt.yscale('log')\n",
    "plt.step(new_disp_grid, fluxes[2000, :])\n",
    "plt.step(new_disp_grid, fluxes[2000, :] - filtered[2000, :])\n",
    "plt.show()"
   ]
  },
  {
   "cell_type": "code",
   "execution_count": 169,
   "metadata": {},
   "outputs": [
    {
     "output_type": "display_data",
     "data": {
      "text/plain": "Canvas(toolbar=Toolbar(toolitems=[('Home', 'Reset original view', 'home', 'home'), ('Back', 'Back to previous …",
      "application/vnd.jupyter.widget-view+json": {
       "version_major": 2,
       "version_minor": 0,
       "model_id": "84fff6be2dad4679b8da7762eecce168"
      }
     },
     "metadata": {}
    }
   ],
   "source": [
    "features = Table.read(\"features.csv\")\n",
    "plt.figure(figsize=[25,16])\n",
    "#plt.yscale('log')\n",
    "#for i in range(5):\n",
    "    #plt.step(new_disp_grid, pca_sm.components_[i], label=f\"Component {i}\")\n",
    "i = 1\n",
    "plt.step(new_disp_grid, pca.components_[i], label=f\"Component {i}\")\n",
    "txt_y = 1.02 * np.max(pca.components_[i])\n",
    "for f in features:\n",
    "    if f['low wave'] != f['high wave']:\n",
    "        plt.axvspan(f['low wave'], f['high wave'], color='r', alpha=0.1)\n",
    "        txt_x = 0.5*(f['low wave'] + f['high wave'])\n",
    "        plt.text(txt_x, 1.05*txt_y, f['name'], horizontalalignment='center', verticalalignment='top')\n",
    "    else:\n",
    "        x = f['low wave']\n",
    "        plt.text(x, txt_y, f\"{f['name']} {x}\", rotation='vertical', fontsize='medium', horizontalalignment='right', verticalalignment='top')\n",
    "        plt.axvline(x, color='black', alpha=0.2)\n",
    "plt.legend()\n",
    "plt.show()"
   ]
  },
  {
   "cell_type": "code",
   "execution_count": 89,
   "metadata": {},
   "outputs": [
    {
     "output_type": "execute_result",
     "data": {
      "text/plain": [
       "array([-0.97426734,  1.3280089 ,  1.21197703, -2.11753905, -1.09568555,\n",
       "        0.04327511, -0.02283311,  0.43418767,  0.37909889,  0.50991424,\n",
       "       -0.12827532,  0.0482443 , -0.07777952, -0.12138593,  0.05516883,\n",
       "       -0.05339013,  0.04032064, -0.02323196, -0.00341229,  0.03711213,\n",
       "        0.01279714,  0.2873275 ,  0.4125028 ,  0.28903412])"
      ]
     },
     "metadata": {},
     "execution_count": 89
    }
   ],
   "source": [
    "components[-1, :]"
   ]
  },
  {
   "cell_type": "code",
   "execution_count": 90,
   "metadata": {},
   "outputs": [
    {
     "output_type": "execute_result",
     "data": {
      "text/plain": [
       "array([-1.02591806e+00, -2.08063226e-01, -2.29464562e+00,  4.47705699e-01,\n",
       "       -1.04044543e+00, -1.23337220e-01, -1.57060074e-02, -1.47131398e-01,\n",
       "       -1.50833537e-01,  3.51521293e-02, -1.27162334e-02, -6.86495993e-04,\n",
       "       -2.22179677e-03, -2.84325139e-02, -4.79068319e-03,  7.01374762e-03,\n",
       "        8.85344407e-04, -5.12641225e-02,  7.96013981e-03,  6.29171426e-02,\n",
       "        1.07075937e-02,  5.93821801e-03, -5.65231762e-02, -9.73743154e-02])"
      ]
     },
     "metadata": {},
     "execution_count": 90
    }
   ],
   "source": [
    "components[0, :]"
   ]
  },
  {
   "cell_type": "code",
   "execution_count": 172,
   "metadata": {},
   "outputs": [
    {
     "output_type": "execute_result",
     "data": {
      "text/plain": [
       "3"
      ]
     },
     "metadata": {},
     "execution_count": 172
    }
   ],
   "source": [
    "np.arange(16).reshape(4, 4).flatten()[3]"
   ]
  },
  {
   "cell_type": "code",
   "execution_count": 177,
   "metadata": {},
   "outputs": [
    {
     "output_type": "display_data",
     "data": {
      "text/plain": "Canvas(toolbar=Toolbar(toolitems=[('Home', 'Reset original view', 'home', 'home'), ('Back', 'Back to previous …",
      "application/vnd.jupyter.widget-view+json": {
       "version_major": 2,
       "version_minor": 0,
       "model_id": "7854a95beb3142d9b820e7e54a514bbc"
      }
     },
     "metadata": {}
    }
   ],
   "source": [
    "fig, axs = plt.subplots(4, 4, figsize=[25,16], sharex=True)\n",
    "for i, ax in enumerate(axs.flat):\n",
    "    ax.step(new_disp_grid, pca.components_[i])\n",
    "    ax.set_title(f\"Component {i}\")\n",
    "    ax.set_ylabel(\"counts/s\")\n",
    "    ax.set_xlabel(\"Wavelength (A)\")\n",
    "    ax.label_outer()\n",
    "plt.show()"
   ]
  },
  {
   "cell_type": "code",
   "execution_count": null,
   "metadata": {},
   "outputs": [],
   "source": []
  }
 ]
}