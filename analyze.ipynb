{
 "metadata": {
  "language_info": {
   "codemirror_mode": {
    "name": "ipython",
    "version": 3
   },
   "file_extension": ".py",
   "mimetype": "text/x-python",
   "name": "python",
   "nbconvert_exporter": "python",
   "pygments_lexer": "ipython3",
   "version": "3.8.5-final"
  },
  "orig_nbformat": 2,
  "kernelspec": {
   "name": "python3",
   "display_name": "Python 3",
   "language": "python"
  }
 },
 "nbformat": 4,
 "nbformat_minor": 2,
 "cells": [
  {
   "cell_type": "code",
   "execution_count": 6,
   "metadata": {},
   "outputs": [],
   "source": [
    "import datetime\n",
    "import pytz\n",
    "\n",
    "import matplotlib.pyplot as plt\n",
    "import mplcyberpunk\n",
    "\n",
    "from pathlib import Path\n",
    "import pandas as pd\n",
    "import numpy as np\n",
    "from astropy.io import fits\n",
    "import astropy.wcs as fitswcs\n",
    "import astropy.units as u\n",
    "from astropy.coordinates import EarthLocation, SkyCoord, AltAz, get_moon, Angle\n",
    "from astropy.time import Time\n",
    "from astropy.table import Table\n",
    "import astroplan\n",
    "from specutils.spectra.spectrum1d import Spectrum1D\n",
    "from astropy.visualization import quantity_support\n",
    "from specutils.manipulation import FluxConservingResampler\n",
    "\n",
    "from sklearn.decomposition import PCA\n",
    "\n",
    "_ = quantity_support()\n",
    "plt.style.use(\"cyberpunk\")\n",
    "%matplotlib widget"
   ]
  },
  {
   "cell_type": "code",
   "execution_count": 2,
   "metadata": {},
   "outputs": [
    {
     "output_type": "execute_result",
     "data": {
      "text/plain": [
       "                                            file                   ut    alt  \\\n",
       "1        ./2004.0413/skysub_a2034.bg_1_comb.fits  2004-04-13T08:25:25  81.18   \n",
       "3        ./2004.0413/skysub_F2.20.bg_1_comb.fits  2004-04-13T05:53:13  56.71   \n",
       "4           ./2004.0414/skysub_F2.bg_1_comb.fits  2004-04-14T05:11:49  65.04   \n",
       "5           ./2004.0414/skysub_F2.bg_2_comb.fits  2004-04-14T07:00:59  41.07   \n",
       "6           ./2004.0415/skysub_F2.bg_3_comb.fits  2004-04-15T05:48:01  55.37   \n",
       "...                                          ...                  ...    ...   \n",
       "4125   ./2020.1013/skysub_m31_pne_20_9_comb.fits  2020-10-13T08:16:47  66.13   \n",
       "4128     ./2020.1024/skysub_jiang_c2_1_comb.fits  2020-10-24T12:04:06  65.47   \n",
       "4131       ./2020.1024/skysub_Rank13_1_comb.fits  2020-10-24T08:14:37  50.94   \n",
       "4132     ./2020.1025/skysub_jiang_c2_1_comb.fits  2020-10-25T11:29:55  59.13   \n",
       "4135  ./2020.1025/skysub_m31_pne_20_12_comb.fits  2020-10-25T10:04:04  40.71   \n",
       "\n",
       "          az  moon_alt  moon_az  moon_ill disperser  \n",
       "1      75.47    -17.42   107.26        37   270_gpm  \n",
       "3     278.43    -47.97    91.12        38   270_gpm  \n",
       "4     274.96    -65.06    67.04        28   270_gpm  \n",
       "5     284.86    -43.32    87.36        27   270_gpm  \n",
       "6     278.13    -64.16    53.43        19   270_gpm  \n",
       "...      ...       ...      ...       ...       ...  \n",
       "4125  300.54    -16.84    60.23        17   270_gpm  \n",
       "4128   80.09    -59.19   282.18        60   270_gpm  \n",
       "4131  204.84    -13.27   252.44        58   270_gpm  \n",
       "4132   78.40    -41.03   273.43        69   270_gpm  \n",
       "4135  299.23    -23.64   262.57        69   270_gpm  \n",
       "\n",
       "[2309 rows x 8 columns]"
      ],
      "text/html": "<div>\n<style scoped>\n    .dataframe tbody tr th:only-of-type {\n        vertical-align: middle;\n    }\n\n    .dataframe tbody tr th {\n        vertical-align: top;\n    }\n\n    .dataframe thead th {\n        text-align: right;\n    }\n</style>\n<table border=\"1\" class=\"dataframe\">\n  <thead>\n    <tr style=\"text-align: right;\">\n      <th></th>\n      <th>file</th>\n      <th>ut</th>\n      <th>alt</th>\n      <th>az</th>\n      <th>moon_alt</th>\n      <th>moon_az</th>\n      <th>moon_ill</th>\n      <th>disperser</th>\n    </tr>\n  </thead>\n  <tbody>\n    <tr>\n      <th>1</th>\n      <td>./2004.0413/skysub_a2034.bg_1_comb.fits</td>\n      <td>2004-04-13T08:25:25</td>\n      <td>81.18</td>\n      <td>75.47</td>\n      <td>-17.42</td>\n      <td>107.26</td>\n      <td>37</td>\n      <td>270_gpm</td>\n    </tr>\n    <tr>\n      <th>3</th>\n      <td>./2004.0413/skysub_F2.20.bg_1_comb.fits</td>\n      <td>2004-04-13T05:53:13</td>\n      <td>56.71</td>\n      <td>278.43</td>\n      <td>-47.97</td>\n      <td>91.12</td>\n      <td>38</td>\n      <td>270_gpm</td>\n    </tr>\n    <tr>\n      <th>4</th>\n      <td>./2004.0414/skysub_F2.bg_1_comb.fits</td>\n      <td>2004-04-14T05:11:49</td>\n      <td>65.04</td>\n      <td>274.96</td>\n      <td>-65.06</td>\n      <td>67.04</td>\n      <td>28</td>\n      <td>270_gpm</td>\n    </tr>\n    <tr>\n      <th>5</th>\n      <td>./2004.0414/skysub_F2.bg_2_comb.fits</td>\n      <td>2004-04-14T07:00:59</td>\n      <td>41.07</td>\n      <td>284.86</td>\n      <td>-43.32</td>\n      <td>87.36</td>\n      <td>27</td>\n      <td>270_gpm</td>\n    </tr>\n    <tr>\n      <th>6</th>\n      <td>./2004.0415/skysub_F2.bg_3_comb.fits</td>\n      <td>2004-04-15T05:48:01</td>\n      <td>55.37</td>\n      <td>278.13</td>\n      <td>-64.16</td>\n      <td>53.43</td>\n      <td>19</td>\n      <td>270_gpm</td>\n    </tr>\n    <tr>\n      <th>...</th>\n      <td>...</td>\n      <td>...</td>\n      <td>...</td>\n      <td>...</td>\n      <td>...</td>\n      <td>...</td>\n      <td>...</td>\n      <td>...</td>\n    </tr>\n    <tr>\n      <th>4125</th>\n      <td>./2020.1013/skysub_m31_pne_20_9_comb.fits</td>\n      <td>2020-10-13T08:16:47</td>\n      <td>66.13</td>\n      <td>300.54</td>\n      <td>-16.84</td>\n      <td>60.23</td>\n      <td>17</td>\n      <td>270_gpm</td>\n    </tr>\n    <tr>\n      <th>4128</th>\n      <td>./2020.1024/skysub_jiang_c2_1_comb.fits</td>\n      <td>2020-10-24T12:04:06</td>\n      <td>65.47</td>\n      <td>80.09</td>\n      <td>-59.19</td>\n      <td>282.18</td>\n      <td>60</td>\n      <td>270_gpm</td>\n    </tr>\n    <tr>\n      <th>4131</th>\n      <td>./2020.1024/skysub_Rank13_1_comb.fits</td>\n      <td>2020-10-24T08:14:37</td>\n      <td>50.94</td>\n      <td>204.84</td>\n      <td>-13.27</td>\n      <td>252.44</td>\n      <td>58</td>\n      <td>270_gpm</td>\n    </tr>\n    <tr>\n      <th>4132</th>\n      <td>./2020.1025/skysub_jiang_c2_1_comb.fits</td>\n      <td>2020-10-25T11:29:55</td>\n      <td>59.13</td>\n      <td>78.40</td>\n      <td>-41.03</td>\n      <td>273.43</td>\n      <td>69</td>\n      <td>270_gpm</td>\n    </tr>\n    <tr>\n      <th>4135</th>\n      <td>./2020.1025/skysub_m31_pne_20_12_comb.fits</td>\n      <td>2020-10-25T10:04:04</td>\n      <td>40.71</td>\n      <td>299.23</td>\n      <td>-23.64</td>\n      <td>262.57</td>\n      <td>69</td>\n      <td>270_gpm</td>\n    </tr>\n  </tbody>\n</table>\n<p>2309 rows × 8 columns</p>\n</div>"
     },
     "metadata": {},
     "execution_count": 2
    }
   ],
   "source": [
    "df = pd.read_csv(\"sky_spectra.csv\")\n",
    "moonfree = df[(df['moon_alt'] < -10) & (df['disperser'] == '270_gpm')]\n",
    "moonfree"
   ]
  },
  {
   "cell_type": "code",
   "execution_count": 3,
   "metadata": {},
   "outputs": [],
   "source": [
    "new_disp_grid = np.arange(3850, 6800, 2) * u.AA\n",
    "fluxcon = FluxConservingResampler()"
   ]
  },
  {
   "cell_type": "code",
   "execution_count": 4,
   "metadata": {
    "tags": []
   },
   "outputs": [],
   "source": [
    "fluxes = []\n",
    "for i, r in moonfree.iterrows():\n",
    "    sp = Spectrum1D.read(r['file'])\n",
    "    trim_sp = fluxcon(sp, new_disp_grid)\n",
    "    fluxes.append(trim_sp.flux)"
   ]
  },
  {
   "cell_type": "code",
   "execution_count": 6,
   "metadata": {},
   "outputs": [],
   "source": [
    "fluxes = np.array(fluxes)\n",
    "fits.writeto(\"sky_fluxes.fts\", fluxes, overwrite=True)"
   ]
  },
  {
   "cell_type": "code",
   "execution_count": 4,
   "metadata": {},
   "outputs": [],
   "source": [
    "fluxes = fits.open('sky_fluxes.fts')[0].data"
   ]
  },
  {
   "cell_type": "code",
   "execution_count": 7,
   "metadata": {},
   "outputs": [
    {
     "output_type": "display_data",
     "data": {
      "text/plain": "Canvas(toolbar=Toolbar(toolitems=[('Home', 'Reset original view', 'home', 'home'), ('Back', 'Back to previous …",
      "application/vnd.jupyter.widget-view+json": {
       "version_major": 2,
       "version_minor": 0,
       "model_id": "ca3231cbd824429aac73959e24432b39"
      }
     },
     "metadata": {}
    }
   ],
   "source": [
    "plt.figure(figsize=[15,8])\n",
    "plt.yscale('log')\n",
    "plt.step(new_disp_grid, np.mean(fluxes, axis=0))\n",
    "plt.step(new_disp_grid, np.std(fluxes, axis=0))\n",
    "plt.show()"
   ]
  },
  {
   "cell_type": "code",
   "execution_count": 8,
   "metadata": {},
   "outputs": [
    {
     "output_type": "display_data",
     "data": {
      "text/plain": "Canvas(toolbar=Toolbar(toolitems=[('Home', 'Reset original view', 'home', 'home'), ('Back', 'Back to previous …",
      "application/vnd.jupyter.widget-view+json": {
       "version_major": 2,
       "version_minor": 0,
       "model_id": "516d78b7a61b48849375fa835a4703f5"
      }
     },
     "metadata": {}
    }
   ],
   "source": [
    "plt.figure(figsize=[15,8])\n",
    "#plt.yscale('log')\n",
    "plt.step(new_disp_grid, np.mean(fluxes, axis=0)/np.std(fluxes, axis=0))\n",
    "plt.show()"
   ]
  },
  {
   "cell_type": "code",
   "execution_count": 9,
   "metadata": {},
   "outputs": [
    {
     "output_type": "display_data",
     "data": {
      "text/plain": "Canvas(toolbar=Toolbar(toolitems=[('Home', 'Reset original view', 'home', 'home'), ('Back', 'Back to previous …",
      "application/vnd.jupyter.widget-view+json": {
       "version_major": 2,
       "version_minor": 0,
       "model_id": "dc69958cbd3e448f860509ee30d50772"
      }
     },
     "metadata": {}
    }
   ],
   "source": [
    "plt.figure(figsize=[15,8])\n",
    "#plt.yscale('log')\n",
    "plt.step(new_disp_grid, 2.5 * np.log10(fluxes[-1, :] / fluxes[2200, :]))\n",
    "plt.show()"
   ]
  },
  {
   "cell_type": "code",
   "execution_count": 10,
   "metadata": {},
   "outputs": [],
   "source": [
    "pca = PCA(n_components=16).fit(fluxes)"
   ]
  },
  {
   "cell_type": "code",
   "execution_count": 11,
   "metadata": {},
   "outputs": [
    {
     "output_type": "display_data",
     "data": {
      "text/plain": "Canvas(toolbar=Toolbar(toolitems=[('Home', 'Reset original view', 'home', 'home'), ('Back', 'Back to previous …",
      "application/vnd.jupyter.widget-view+json": {
       "version_major": 2,
       "version_minor": 0,
       "model_id": "4730f128fa884e0b8f48c2c37bc0f802"
      }
     },
     "metadata": {}
    }
   ],
   "source": [
    "plt.figure()\n",
    "plt.plot(np.cumsum(pca.explained_variance_ratio_))\n",
    "plt.xlabel('number of components')\n",
    "plt.ylabel('cumulative explained variance')\n",
    "plt.show()"
   ]
  },
  {
   "cell_type": "code",
   "execution_count": 12,
   "metadata": {},
   "outputs": [],
   "source": [
    "components = pca.transform(fluxes)\n",
    "filtered = pca.inverse_transform(components)"
   ]
  },
  {
   "cell_type": "code",
   "execution_count": 13,
   "metadata": {},
   "outputs": [
    {
     "output_type": "execute_result",
     "data": {
      "text/plain": [
       "(2309, 16)"
      ]
     },
     "metadata": {},
     "execution_count": 13
    }
   ],
   "source": [
    "components.shape"
   ]
  },
  {
   "cell_type": "code",
   "execution_count": 14,
   "metadata": {},
   "outputs": [
    {
     "output_type": "execute_result",
     "data": {
      "text/plain": [
       "(2309, 1475)"
      ]
     },
     "metadata": {},
     "execution_count": 14
    }
   ],
   "source": [
    "filtered.shape"
   ]
  },
  {
   "cell_type": "code",
   "execution_count": 15,
   "metadata": {},
   "outputs": [
    {
     "output_type": "display_data",
     "data": {
      "text/plain": "Canvas(toolbar=Toolbar(toolitems=[('Home', 'Reset original view', 'home', 'home'), ('Back', 'Back to previous …",
      "application/vnd.jupyter.widget-view+json": {
       "version_major": 2,
       "version_minor": 0,
       "model_id": "9b093ef427e544a989388255ba891386"
      }
     },
     "metadata": {}
    }
   ],
   "source": [
    "plt.figure(figsize=[15,8])\n",
    "#plt.yscale('log')\n",
    "plt.step(new_disp_grid, fluxes[-4, :])\n",
    "plt.step(new_disp_grid, fluxes[-4, :] - filtered[-4, :])\n",
    "plt.show()"
   ]
  },
  {
   "cell_type": "code",
   "execution_count": 16,
   "metadata": {},
   "outputs": [
    {
     "output_type": "display_data",
     "data": {
      "text/plain": "Canvas(toolbar=Toolbar(toolitems=[('Home', 'Reset original view', 'home', 'home'), ('Back', 'Back to previous …",
      "application/vnd.jupyter.widget-view+json": {
       "version_major": 2,
       "version_minor": 0,
       "model_id": "45dbb948432140cea5761b3c64edcddb"
      }
     },
     "metadata": {}
    }
   ],
   "source": [
    "features = Table.read(\"features.csv\")\n",
    "plt.figure(figsize=[25,16])\n",
    "#plt.yscale('log')\n",
    "#for i in range(5):\n",
    "    #plt.step(new_disp_grid, pca_sm.components_[i], label=f\"Component {i}\")\n",
    "i = 0\n",
    "plt.step(new_disp_grid, pca.components_[i], label=f\"Component {i}\")\n",
    "txt_y = 1.02 * np.max(pca.components_[i])\n",
    "for f in features:\n",
    "    if f['low wave'] != f['high wave']:\n",
    "        plt.axvspan(f['low wave'], f['high wave'], color='r', alpha=0.1)\n",
    "        txt_x = 0.5*(f['low wave'] + f['high wave'])\n",
    "        plt.text(txt_x, 1.05*txt_y, f['name'], horizontalalignment='center', verticalalignment='top')\n",
    "    else:\n",
    "        x = f['low wave']\n",
    "        plt.text(x, txt_y, f\"{f['name']} {x}\", rotation='vertical', fontsize='medium', horizontalalignment='right', verticalalignment='top')\n",
    "        plt.axvline(x, color='black', alpha=0.2)\n",
    "plt.legend()\n",
    "plt.show()"
   ]
  },
  {
   "cell_type": "code",
   "execution_count": 17,
   "metadata": {},
   "outputs": [
    {
     "output_type": "execute_result",
     "data": {
      "text/plain": [
       "array([ 1.32715163,  1.21202569, -2.11438958, -1.10036221,  0.04728834,\n",
       "       -0.02333088,  0.43063577,  0.38794274,  0.14074741, -0.50295542,\n",
       "       -0.10110243,  0.05056153,  0.01697325,  0.0434665 , -0.05780406,\n",
       "       -0.0298428 ])"
      ]
     },
     "metadata": {},
     "execution_count": 17
    }
   ],
   "source": [
    "components[-1, :]"
   ]
  },
  {
   "cell_type": "code",
   "execution_count": 18,
   "metadata": {},
   "outputs": [
    {
     "output_type": "execute_result",
     "data": {
      "text/plain": [
       "array([-2.09881474e-01, -2.29452258e+00,  4.50188326e-01, -1.04057383e+00,\n",
       "       -1.24920801e-01, -1.72296578e-02, -1.47683673e-01, -1.47547598e-01,\n",
       "       -2.82452537e-02, -5.38782421e-02, -4.15297818e-03, -2.63036515e-04,\n",
       "        1.87318291e-02, -5.91426551e-03,  6.69956606e-03, -4.42060349e-03])"
      ]
     },
     "metadata": {},
     "execution_count": 18
    }
   ],
   "source": [
    "components[0, :]"
   ]
  },
  {
   "cell_type": "code",
   "execution_count": 19,
   "metadata": {},
   "outputs": [
    {
     "output_type": "execute_result",
     "data": {
      "text/plain": [
       "3"
      ]
     },
     "metadata": {},
     "execution_count": 19
    }
   ],
   "source": [
    "np.arange(16).reshape(4, 4).flatten()[3]"
   ]
  },
  {
   "cell_type": "code",
   "execution_count": 20,
   "metadata": {},
   "outputs": [
    {
     "output_type": "display_data",
     "data": {
      "text/plain": "Canvas(toolbar=Toolbar(toolitems=[('Home', 'Reset original view', 'home', 'home'), ('Back', 'Back to previous …",
      "application/vnd.jupyter.widget-view+json": {
       "version_major": 2,
       "version_minor": 0,
       "model_id": "fa664456aead400d98e8033e37a1a089"
      }
     },
     "metadata": {}
    }
   ],
   "source": [
    "fig, axs = plt.subplots(4, 4, figsize=[25,16], sharex=True)\n",
    "for i, ax in enumerate(axs.flat):\n",
    "    ax.step(new_disp_grid, pca.components_[i])\n",
    "    ax.set_title(f\"Component {i}\")\n",
    "    ax.set_ylabel(\"counts/s\")\n",
    "    ax.set_xlabel(\"Wavelength (A)\")\n",
    "    if not ax.is_last_row():\n",
    "        #ax.set_xticklabels([])\n",
    "        ax.set_xlabel(\"\")\n",
    "plt.show()"
   ]
  },
  {
   "cell_type": "code",
   "execution_count": 21,
   "metadata": {},
   "outputs": [
    {
     "output_type": "execute_result",
     "data": {
      "text/plain": [
       "2.650243872377309"
      ]
     },
     "metadata": {},
     "execution_count": 21
    }
   ],
   "source": [
    "components[:, 1].std()"
   ]
  },
  {
   "cell_type": "code",
   "execution_count": 22,
   "metadata": {},
   "outputs": [
    {
     "output_type": "display_data",
     "data": {
      "text/plain": "Canvas(toolbar=Toolbar(toolitems=[('Home', 'Reset original view', 'home', 'home'), ('Back', 'Back to previous …",
      "application/vnd.jupyter.widget-view+json": {
       "version_major": 2,
       "version_minor": 0,
       "model_id": "5dbce1eca5b34d69a51a37e1fcaebd69"
      }
     },
     "metadata": {}
    }
   ],
   "source": [
    "plt.figure()\n",
    "plt.scatter(moonfree['alt'], components[:, 7])\n",
    "plt.show()"
   ]
  },
  {
   "cell_type": "code",
   "execution_count": 23,
   "metadata": {},
   "outputs": [
    {
     "output_type": "execute_result",
     "data": {
      "text/plain": [
       "1294"
      ]
     },
     "metadata": {},
     "execution_count": 23
    }
   ],
   "source": [
    "np.argmax(components[:, 0])"
   ]
  },
  {
   "cell_type": "code",
   "execution_count": 24,
   "metadata": {},
   "outputs": [
    {
     "output_type": "execute_result",
     "data": {
      "text/plain": [
       "file         ./2010.1001/skysub_mah_2010C_spec_1_comb.fits\n",
       "ut                                     2010-10-01T04:44:55\n",
       "alt                                                  63.72\n",
       "az                                                  307.76\n",
       "moon_alt                                            -17.55\n",
       "moon_az                                              48.31\n",
       "moon_ill                                                50\n",
       "disperser                                          270_gpm\n",
       "Name: 1646, dtype: object"
      ]
     },
     "metadata": {},
     "execution_count": 24
    }
   ],
   "source": [
    "moonfree.iloc[998]"
   ]
  },
  {
   "cell_type": "code",
   "execution_count": 25,
   "metadata": {},
   "outputs": [],
   "source": [
    "resid = fluxes - filtered"
   ]
  },
  {
   "cell_type": "code",
   "execution_count": 27,
   "metadata": {},
   "outputs": [
    {
     "output_type": "display_data",
     "data": {
      "text/plain": "Canvas(toolbar=Toolbar(toolitems=[('Home', 'Reset original view', 'home', 'home'), ('Back', 'Back to previous …",
      "application/vnd.jupyter.widget-view+json": {
       "version_major": 2,
       "version_minor": 0,
       "model_id": "4b7b2e00079a4318bbd26c3ce287c7d0"
      }
     },
     "metadata": {}
    }
   ],
   "source": [
    "rms = resid.std()\n",
    "plt.figure(figsize=[6,6])\n",
    "plt.imshow(resid, vmin=-3*rms, vmax=3*rms)\n",
    "plt.colorbar()\n",
    "plt.show()"
   ]
  },
  {
   "cell_type": "code",
   "execution_count": 49,
   "metadata": {},
   "outputs": [],
   "source": [
    "ut = Time(list(moonfree['ut'].values), format='isot', scale='utc')"
   ]
  },
  {
   "cell_type": "code",
   "execution_count": 67,
   "metadata": {},
   "outputs": [
    {
     "output_type": "execute_result",
     "data": {
      "text/plain": [
       "<Quantity 6114. Angstrom>"
      ],
      "text/latex": "$6114 \\; \\mathrm{\\mathring{A}}$"
     },
     "metadata": {},
     "execution_count": 67
    }
   ],
   "source": [
    "new_disp_grid[1132]"
   ]
  },
  {
   "cell_type": "code",
   "execution_count": 27,
   "metadata": {},
   "outputs": [
    {
     "output_type": "execute_result",
     "data": {
      "text/plain": [
       "<Quantity 5688. Angstrom>"
      ],
      "text/latex": "$5688 \\; \\mathrm{\\mathring{A}}$"
     },
     "metadata": {},
     "execution_count": 27
    }
   ],
   "source": [
    "new_disp_grid[919]"
   ]
  },
  {
   "cell_type": "code",
   "execution_count": 70,
   "metadata": {},
   "outputs": [
    {
     "output_type": "execute_result",
     "data": {
      "text/plain": [
       "<Quantity 4984. Angstrom>"
      ],
      "text/latex": "$4984 \\; \\mathrm{\\mathring{A}}$"
     },
     "metadata": {},
     "execution_count": 70
    }
   ],
   "source": [
    "new_disp_grid[567]"
   ]
  },
  {
   "cell_type": "code",
   "execution_count": 29,
   "metadata": {},
   "outputs": [],
   "source": [
    "fits.writeto(\"resid.fits\", resid)"
   ]
  },
  {
   "cell_type": "code",
   "execution_count": 63,
   "metadata": {},
   "outputs": [
    {
     "output_type": "display_data",
     "data": {
      "text/plain": "Canvas(toolbar=Toolbar(toolitems=[('Home', 'Reset original view', 'home', 'home'), ('Back', 'Back to previous …",
      "application/vnd.jupyter.widget-view+json": {
       "version_major": 2,
       "version_minor": 0,
       "model_id": "5c317c4a101649cd911cf0b3e0585b5a"
      }
     },
     "metadata": {}
    }
   ],
   "source": [
    "led = np.mean(resid[:, 275:375], axis=1)\n",
    "plt.figure(figsize=[12,6])\n",
    "plt.scatter(ut.to_datetime(), led)\n",
    "plt.xlabel(\"Time\")\n",
    "plt.ylabel(\"counts/sec\")\n",
    "plt.title(\"Residual background between 4400 and 4600 $\\AA$\")\n",
    "plt.savefig(\"led.pdf\")\n",
    "plt.show()"
   ]
  },
  {
   "cell_type": "code",
   "execution_count": 68,
   "metadata": {},
   "outputs": [
    {
     "output_type": "display_data",
     "data": {
      "text/plain": "Canvas(toolbar=Toolbar(toolitems=[('Home', 'Reset original view', 'home', 'home'), ('Back', 'Back to previous …",
      "application/vnd.jupyter.widget-view+json": {
       "version_major": 2,
       "version_minor": 0,
       "model_id": "f774bcf09d774b13b2fa0370d65fedb4"
      }
     },
     "metadata": {}
    }
   ],
   "source": [
    "hg_4358 = np.mean(resid[:, 254:258], axis=1)\n",
    "plt.figure(figsize=[12,6])\n",
    "plt.scatter(ut.to_datetime(), hg_4358)\n",
    "plt.xlabel(\"Time\")\n",
    "plt.ylabel(\"counts/sec\")\n",
    "plt.title(\"Residual background at Hg I 4358 $\\AA$\")\n",
    "plt.savefig(\"hg_4358.pdf\")\n",
    "plt.show()"
   ]
  },
  {
   "cell_type": "code",
   "execution_count": 69,
   "metadata": {},
   "outputs": [
    {
     "output_type": "display_data",
     "data": {
      "text/plain": "Canvas(toolbar=Toolbar(toolitems=[('Home', 'Reset original view', 'home', 'home'), ('Back', 'Back to previous …",
      "application/vnd.jupyter.widget-view+json": {
       "version_major": 2,
       "version_minor": 0,
       "model_id": "db1d6d08ab514605bb4e514cb268196f"
      }
     },
     "metadata": {}
    }
   ],
   "source": [
    "fl_6114 = np.mean(resid[:, 1126:1136], axis=1)\n",
    "plt.figure(figsize=[12,6])\n",
    "plt.scatter(ut.to_datetime(), fl_6114)\n",
    "plt.xlabel(\"Time\")\n",
    "plt.ylabel(\"counts/sec\")\n",
    "plt.title(\"Residual background at 6114 $\\AA$\")\n",
    "plt.savefig(\"fl_6614.pdf\")\n",
    "plt.show()"
   ]
  },
  {
   "cell_type": "code",
   "execution_count": 71,
   "metadata": {},
   "outputs": [
    {
     "output_type": "display_data",
     "data": {
      "text/plain": "Canvas(toolbar=Toolbar(toolitems=[('Home', 'Reset original view', 'home', 'home'), ('Back', 'Back to previous …",
      "application/vnd.jupyter.widget-view+json": {
       "version_major": 2,
       "version_minor": 0,
       "model_id": "729ed836b8ad4bf487bc2f12385623ac"
      }
     },
     "metadata": {}
    }
   ],
   "source": [
    "nai_4984 = np.mean(resid[:, 562:571], axis=1)\n",
    "nai_5684 = np.mean(resid[:, 915:922], axis=1)\n",
    "nai = nai_4984 + nai_5684\n",
    "plt.figure(figsize=[12,6])\n",
    "plt.scatter(ut.to_datetime(), nai)\n",
    "plt.xlabel(\"Time\")\n",
    "plt.ylabel(\"counts/sec\")\n",
    "plt.title(\"Residual background at Na I lines at 4984 $\\AA$ and 5684 $\\AA$\")\n",
    "plt.savefig(\"nai.pdf\")\n",
    "plt.show()"
   ]
  },
  {
   "cell_type": "code",
   "execution_count": null,
   "metadata": {},
   "outputs": [],
   "source": []
  }
 ]
}